{
 "cells": [
  {
   "cell_type": "markdown",
   "metadata": {},
   "source": [
    "## Loading Data"
   ]
  },
  {
   "cell_type": "code",
   "execution_count": 10,
   "metadata": {},
   "outputs": [],
   "source": [
    "import pandas as pd\n",
    "import numpy as np\n",
    "import matplotlib.pyplot as plt\n",
    "import seaborn as sns\n",
    "\n",
    "data = pd.read_csv(r'C:\\Users\\Lenovo\\Desktop\\Airbnb_Price_Analysis\\data\\NYC-Airbnb-2023-Cleaned.csv')"
   ]
  },
  {
   "cell_type": "code",
   "execution_count": 11,
   "metadata": {},
   "outputs": [
    {
     "data": {
      "application/vnd.microsoft.datawrangler.viewer.v0+json": {
       "columns": [
        {
         "name": "index",
         "rawType": "int64",
         "type": "integer"
        },
        {
         "name": "id",
         "rawType": "int64",
         "type": "integer"
        },
        {
         "name": "name",
         "rawType": "object",
         "type": "string"
        },
        {
         "name": "host_id",
         "rawType": "int64",
         "type": "integer"
        },
        {
         "name": "host_name",
         "rawType": "object",
         "type": "string"
        },
        {
         "name": "neighbourhood_group",
         "rawType": "object",
         "type": "string"
        },
        {
         "name": "neighbourhood",
         "rawType": "object",
         "type": "string"
        },
        {
         "name": "latitude",
         "rawType": "float64",
         "type": "float"
        },
        {
         "name": "longitude",
         "rawType": "float64",
         "type": "float"
        },
        {
         "name": "room_type",
         "rawType": "object",
         "type": "string"
        },
        {
         "name": "price",
         "rawType": "int64",
         "type": "integer"
        },
        {
         "name": "minimum_nights",
         "rawType": "int64",
         "type": "integer"
        },
        {
         "name": "number_of_reviews",
         "rawType": "int64",
         "type": "integer"
        },
        {
         "name": "last_review",
         "rawType": "object",
         "type": "string"
        },
        {
         "name": "reviews_per_month",
         "rawType": "float64",
         "type": "float"
        },
        {
         "name": "calculated_host_listings_count",
         "rawType": "int64",
         "type": "integer"
        },
        {
         "name": "availability_365",
         "rawType": "int64",
         "type": "integer"
        },
        {
         "name": "number_of_reviews_ltm",
         "rawType": "int64",
         "type": "integer"
        }
       ],
       "conversionMethod": "pd.DataFrame",
       "ref": "ca6b8096-a5f6-4f40-b919-3033c5d9c225",
       "rows": [
        [
         "0",
         "2595",
         "Skylit Midtown Castle",
         "2845",
         "Jennifer",
         "Manhattan",
         "Midtown",
         "40.75356",
         "-73.98559",
         "Entire home/apt",
         "150",
         "30",
         "49",
         "2022-06-21 00:00:00",
         "0.3",
         "3",
         "314",
         "1"
        ],
        [
         "1",
         "5121",
         "BlissArtsSpace!",
         "7356",
         "Garon",
         "Brooklyn",
         "Bedford-Stuyvesant",
         "40.68535",
         "-73.95512",
         "Private room",
         "60",
         "30",
         "50",
         "2019-12-02 00:00:00",
         "0.3",
         "2",
         "365",
         "0"
        ],
        [
         "2",
         "5203",
         "Cozy Clean Guest Room - Family Apt",
         "7490",
         "MaryEllen",
         "Manhattan",
         "Upper West Side",
         "40.8038",
         "-73.96751",
         "Private room",
         "75",
         "2",
         "118",
         "2017-07-21 00:00:00",
         "0.72",
         "1",
         "0",
         "0"
        ],
        [
         "3",
         "5178",
         "Large Furnished Room Near B'way　",
         "8967",
         "Shunichi",
         "Manhattan",
         "Midtown",
         "40.76457",
         "-73.98317",
         "Private room",
         "68",
         "2",
         "575",
         "2023-02-19 00:00:00",
         "3.41",
         "1",
         "106",
         "52"
        ],
        [
         "4",
         "5136",
         "Large Sunny Brooklyn Duplex, Patio + Garden",
         "7378",
         "Rebecca",
         "Brooklyn",
         "Sunset Park",
         "40.66265",
         "-73.99454",
         "Entire home/apt",
         "275",
         "60",
         "3",
         "2022-08-10 00:00:00",
         "0.03",
         "1",
         "181",
         "1"
        ]
       ],
       "shape": {
        "columns": 17,
        "rows": 5
       }
      },
      "text/html": [
       "<div>\n",
       "<style scoped>\n",
       "    .dataframe tbody tr th:only-of-type {\n",
       "        vertical-align: middle;\n",
       "    }\n",
       "\n",
       "    .dataframe tbody tr th {\n",
       "        vertical-align: top;\n",
       "    }\n",
       "\n",
       "    .dataframe thead th {\n",
       "        text-align: right;\n",
       "    }\n",
       "</style>\n",
       "<table border=\"1\" class=\"dataframe\">\n",
       "  <thead>\n",
       "    <tr style=\"text-align: right;\">\n",
       "      <th></th>\n",
       "      <th>id</th>\n",
       "      <th>name</th>\n",
       "      <th>host_id</th>\n",
       "      <th>host_name</th>\n",
       "      <th>neighbourhood_group</th>\n",
       "      <th>neighbourhood</th>\n",
       "      <th>latitude</th>\n",
       "      <th>longitude</th>\n",
       "      <th>room_type</th>\n",
       "      <th>price</th>\n",
       "      <th>minimum_nights</th>\n",
       "      <th>number_of_reviews</th>\n",
       "      <th>last_review</th>\n",
       "      <th>reviews_per_month</th>\n",
       "      <th>calculated_host_listings_count</th>\n",
       "      <th>availability_365</th>\n",
       "      <th>number_of_reviews_ltm</th>\n",
       "    </tr>\n",
       "  </thead>\n",
       "  <tbody>\n",
       "    <tr>\n",
       "      <th>0</th>\n",
       "      <td>2595</td>\n",
       "      <td>Skylit Midtown Castle</td>\n",
       "      <td>2845</td>\n",
       "      <td>Jennifer</td>\n",
       "      <td>Manhattan</td>\n",
       "      <td>Midtown</td>\n",
       "      <td>40.75356</td>\n",
       "      <td>-73.98559</td>\n",
       "      <td>Entire home/apt</td>\n",
       "      <td>150</td>\n",
       "      <td>30</td>\n",
       "      <td>49</td>\n",
       "      <td>2022-06-21 00:00:00</td>\n",
       "      <td>0.30</td>\n",
       "      <td>3</td>\n",
       "      <td>314</td>\n",
       "      <td>1</td>\n",
       "    </tr>\n",
       "    <tr>\n",
       "      <th>1</th>\n",
       "      <td>5121</td>\n",
       "      <td>BlissArtsSpace!</td>\n",
       "      <td>7356</td>\n",
       "      <td>Garon</td>\n",
       "      <td>Brooklyn</td>\n",
       "      <td>Bedford-Stuyvesant</td>\n",
       "      <td>40.68535</td>\n",
       "      <td>-73.95512</td>\n",
       "      <td>Private room</td>\n",
       "      <td>60</td>\n",
       "      <td>30</td>\n",
       "      <td>50</td>\n",
       "      <td>2019-12-02 00:00:00</td>\n",
       "      <td>0.30</td>\n",
       "      <td>2</td>\n",
       "      <td>365</td>\n",
       "      <td>0</td>\n",
       "    </tr>\n",
       "    <tr>\n",
       "      <th>2</th>\n",
       "      <td>5203</td>\n",
       "      <td>Cozy Clean Guest Room - Family Apt</td>\n",
       "      <td>7490</td>\n",
       "      <td>MaryEllen</td>\n",
       "      <td>Manhattan</td>\n",
       "      <td>Upper West Side</td>\n",
       "      <td>40.80380</td>\n",
       "      <td>-73.96751</td>\n",
       "      <td>Private room</td>\n",
       "      <td>75</td>\n",
       "      <td>2</td>\n",
       "      <td>118</td>\n",
       "      <td>2017-07-21 00:00:00</td>\n",
       "      <td>0.72</td>\n",
       "      <td>1</td>\n",
       "      <td>0</td>\n",
       "      <td>0</td>\n",
       "    </tr>\n",
       "    <tr>\n",
       "      <th>3</th>\n",
       "      <td>5178</td>\n",
       "      <td>Large Furnished Room Near B'way</td>\n",
       "      <td>8967</td>\n",
       "      <td>Shunichi</td>\n",
       "      <td>Manhattan</td>\n",
       "      <td>Midtown</td>\n",
       "      <td>40.76457</td>\n",
       "      <td>-73.98317</td>\n",
       "      <td>Private room</td>\n",
       "      <td>68</td>\n",
       "      <td>2</td>\n",
       "      <td>575</td>\n",
       "      <td>2023-02-19 00:00:00</td>\n",
       "      <td>3.41</td>\n",
       "      <td>1</td>\n",
       "      <td>106</td>\n",
       "      <td>52</td>\n",
       "    </tr>\n",
       "    <tr>\n",
       "      <th>4</th>\n",
       "      <td>5136</td>\n",
       "      <td>Large Sunny Brooklyn Duplex, Patio + Garden</td>\n",
       "      <td>7378</td>\n",
       "      <td>Rebecca</td>\n",
       "      <td>Brooklyn</td>\n",
       "      <td>Sunset Park</td>\n",
       "      <td>40.66265</td>\n",
       "      <td>-73.99454</td>\n",
       "      <td>Entire home/apt</td>\n",
       "      <td>275</td>\n",
       "      <td>60</td>\n",
       "      <td>3</td>\n",
       "      <td>2022-08-10 00:00:00</td>\n",
       "      <td>0.03</td>\n",
       "      <td>1</td>\n",
       "      <td>181</td>\n",
       "      <td>1</td>\n",
       "    </tr>\n",
       "  </tbody>\n",
       "</table>\n",
       "</div>"
      ],
      "text/plain": [
       "     id                                         name  host_id  host_name  \\\n",
       "0  2595                        Skylit Midtown Castle     2845   Jennifer   \n",
       "1  5121                              BlissArtsSpace!     7356      Garon   \n",
       "2  5203           Cozy Clean Guest Room - Family Apt     7490  MaryEllen   \n",
       "3  5178             Large Furnished Room Near B'way　     8967   Shunichi   \n",
       "4  5136  Large Sunny Brooklyn Duplex, Patio + Garden     7378    Rebecca   \n",
       "\n",
       "  neighbourhood_group       neighbourhood  latitude  longitude  \\\n",
       "0           Manhattan             Midtown  40.75356  -73.98559   \n",
       "1            Brooklyn  Bedford-Stuyvesant  40.68535  -73.95512   \n",
       "2           Manhattan     Upper West Side  40.80380  -73.96751   \n",
       "3           Manhattan             Midtown  40.76457  -73.98317   \n",
       "4            Brooklyn         Sunset Park  40.66265  -73.99454   \n",
       "\n",
       "         room_type  price  minimum_nights  number_of_reviews  \\\n",
       "0  Entire home/apt    150              30                 49   \n",
       "1     Private room     60              30                 50   \n",
       "2     Private room     75               2                118   \n",
       "3     Private room     68               2                575   \n",
       "4  Entire home/apt    275              60                  3   \n",
       "\n",
       "           last_review  reviews_per_month  calculated_host_listings_count  \\\n",
       "0  2022-06-21 00:00:00               0.30                               3   \n",
       "1  2019-12-02 00:00:00               0.30                               2   \n",
       "2  2017-07-21 00:00:00               0.72                               1   \n",
       "3  2023-02-19 00:00:00               3.41                               1   \n",
       "4  2022-08-10 00:00:00               0.03                               1   \n",
       "\n",
       "   availability_365  number_of_reviews_ltm  \n",
       "0               314                      1  \n",
       "1               365                      0  \n",
       "2                 0                      0  \n",
       "3               106                     52  \n",
       "4               181                      1  "
      ]
     },
     "execution_count": 11,
     "metadata": {},
     "output_type": "execute_result"
    }
   ],
   "source": [
    "## Top five rows of the dataset\n",
    "\n",
    "data.head()"
   ]
  },
  {
   "cell_type": "code",
   "execution_count": 12,
   "metadata": {},
   "outputs": [
    {
     "data": {
      "text/plain": [
       "id                                0\n",
       "name                              0\n",
       "host_id                           0\n",
       "host_name                         0\n",
       "neighbourhood_group               0\n",
       "neighbourhood                     0\n",
       "latitude                          0\n",
       "longitude                         0\n",
       "room_type                         0\n",
       "price                             0\n",
       "minimum_nights                    0\n",
       "number_of_reviews                 0\n",
       "last_review                       0\n",
       "reviews_per_month                 0\n",
       "calculated_host_listings_count    0\n",
       "availability_365                  0\n",
       "number_of_reviews_ltm             0\n",
       "dtype: int64"
      ]
     },
     "execution_count": 12,
     "metadata": {},
     "output_type": "execute_result"
    }
   ],
   "source": [
    "data.isnull().sum()"
   ]
  },
  {
   "cell_type": "markdown",
   "metadata": {},
   "source": [
    "#### As you can see our data is cleaned."
   ]
  },
  {
   "cell_type": "markdown",
   "metadata": {},
   "source": [
    "## EDA on the dataset"
   ]
  },
  {
   "cell_type": "code",
   "execution_count": 13,
   "metadata": {},
   "outputs": [
    {
     "data": {
      "text/plain": [
       "room_type\n",
       "Entire home/apt    21913\n",
       "Private room       15734\n",
       "Shared room          513\n",
       "Hotel room           161\n",
       "Name: count, dtype: int64"
      ]
     },
     "execution_count": 13,
     "metadata": {},
     "output_type": "execute_result"
    }
   ],
   "source": [
    "data['room_type'].value_counts()"
   ]
  },
  {
   "cell_type": "code",
   "execution_count": 14,
   "metadata": {},
   "outputs": [],
   "source": [
    "average_price_of_all_room_type = [data[data['room_type'] == 'Entire home/apt']['price'].mean(),\n",
    "                                  data[data['room_type'] == 'Private room']['price'].mean(),\n",
    "                                  data[data['room_type'] == 'Shared room']['price'].mean(),\n",
    "                                  data[data['room_type'] == 'Hotel room']['price'].mean()]"
   ]
  },
  {
   "cell_type": "code",
   "execution_count": 15,
   "metadata": {},
   "outputs": [
    {
     "name": "stdout",
     "output_type": "stream",
     "text": [
      "The average price of Entire home/apt is 182.34\n",
      "The average price of Private room is 74.3\n",
      "The average price of Hotel room is 61.75\n",
      "The average price of Shared room is 229.22\n"
     ]
    }
   ],
   "source": [
    "for room_type, price in zip(data['room_type'].unique(), average_price_of_all_room_type):\n",
    "    print(f'The average price of {room_type} is {np.round(price, 2)}')"
   ]
  },
  {
   "cell_type": "code",
   "execution_count": 16,
   "metadata": {},
   "outputs": [
    {
     "data": {
      "text/plain": [
       "Text(0.5, 1.0, 'Average Price of Different Room Types')"
      ]
     },
     "execution_count": 16,
     "metadata": {},
     "output_type": "execute_result"
    },
    {
     "data": {
      "image/png": "[encoded data removed]",
      "text/plain": [
       "<Figure size 640x480 with 1 Axes>"
      ]
     },
     "metadata": {},
     "output_type": "display_data"
    }
   ],
   "source": [
    "plt.pie(average_price_of_all_room_type, labels = data['room_type'].unique(), autopct = '%.2f%%', explode=[0.1, 0, 0, 0], shadow = True)\n",
    "plt.axis('equal')\n",
    "plt.title('Average Price of Different Room Types')"
   ]
  },
  {
   "cell_type": "code",
   "execution_count": 17,
   "metadata": {},
   "outputs": [
    {
     "name": "stderr",
     "output_type": "stream",
     "text": [
      "C:\\Users\\Lenovo\\AppData\\Local\\Temp\\ipykernel_5096\\1719894261.py:1: FutureWarning: \n",
      "\n",
      "Passing `palette` without assigning `hue` is deprecated and will be removed in v0.14.0. Assign the `x` variable to `hue` and set `legend=False` for the same effect.\n",
      "\n",
      "  sns.barplot(x = data['room_type'], y = data['price'], palette='viridis')\n"
     ]
    },
    {
     "data": {
      "text/plain": [
       "Text(0.5, 1.0, 'Room Type Distribution')"
      ]
     },
     "execution_count": 17,
     "metadata": {},
     "output_type": "execute_result"
    },
    {
     "data": {
      "image/png": "[encoded data removed]",
      "text/plain": [
       "<Figure size 640x480 with 1 Axes>"
      ]
     },
     "metadata": {},
     "output_type": "display_data"
    }
   ],
   "source": [
    "sns.barplot(x = data['room_type'], y = data['price'], palette='viridis')\n",
    "plt.title('Room Type Distribution', fontsize=20)"
   ]
  },
  {
   "cell_type": "markdown",
   "metadata": {},
   "source": [
    "### So as we can that hotel room type charges more as compare to other home types."
   ]
  }
 ],
 "metadata": {
  "kernelspec": {
   "display_name": ".venv",
   "language": "python",
   "name": "python3"
  },
  "language_info": {
   "codemirror_mode": {
    "name": "ipython",
    "version": 3
   },
   "file_extension": ".py",
   "mimetype": "text/x-python",
   "name": "python",
   "nbconvert_exporter": "python",
   "pygments_lexer": "ipython3",
   "version": "3.13.1"
  }
 },
 "nbformat": 4,
 "nbformat_minor": 2
}
